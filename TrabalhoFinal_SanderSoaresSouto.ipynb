{
  "nbformat": 4,
  "nbformat_minor": 0,
  "metadata": {
    "celltoolbar": "Create Assignment",
    "kernelspec": {
      "display_name": "Python 3",
      "language": "python",
      "name": "python3"
    },
    "language_info": {
      "codemirror_mode": {
        "name": "ipython",
        "version": 3
      },
      "file_extension": ".py",
      "mimetype": "text/x-python",
      "name": "python",
      "nbconvert_exporter": "python",
      "pygments_lexer": "ipython3",
      "version": "3.8.3"
    },
    "colab": {
      "name": "TrabalhoFinal_SanderSoaresSouto.ipynb",
      "provenance": [],
      "include_colab_link": true
    }
  },
  "cells": [
    {
      "cell_type": "markdown",
      "metadata": {
        "id": "view-in-github",
        "colab_type": "text"
      },
      "source": [
        "<a href=\"https://colab.research.google.com/github/sssouto/caminho-da-escola/blob/main/TrabalhoFinal_SanderSoaresSouto.ipynb\" target=\"_parent\"><img src=\"https://colab.research.google.com/assets/colab-badge.svg\" alt=\"Open In Colab\"/></a>"
      ]
    },
    {
      "cell_type": "markdown",
      "metadata": {
        "id": "ddMtdm-RC1h0"
      },
      "source": [
        "## Trabalho Final - Ciência de Dados - Enap / 2021\r\n",
        "### Aluno: Sander Soares Souto"
      ]
    },
    {
      "cell_type": "markdown",
      "metadata": {
        "id": "71mmHPx0C1h8"
      },
      "source": [
        "### Apresentação do Dataset\r\n",
        "\r\n",
        "O nome do dataset é \"Aquisição de Ônibus Escolares do Programa Caminho da Escola - 2016/2020\". Este dataset contém dados referentes à compra de veículos para o transporte escolar por parte dos Estados, do DF e dos Municípios entre os anos de 2016 e 2020, decorrentes dos pregões eletrônicos FNDE n.º 41, 42 e 43/2015; 18 e 19/2017 e 11/2019.\r\n",
        "\r\n",
        "* Sobre o Programa Caminho da Escola:\r\n",
        "\r\n",
        "O Caminho da Escola é um programa gerido pelo Fundo Nacional de Desenvolvimento da Educação - FNDE com o objetivo de \"renovar, padronizar e ampliar a frota de veículos escolares das redes municipal, do DF e estadual de educação básica pública. Voltado a estudantes residentes, prioritariamente, em áreas rurais e ribeirinhas, o programa oferece ônibus, lanchas e bicicletas fabricados especialmente para o tráfego nestas regiões, sempre visando à segurança e à qualidade do transporte. [1](https://www.fnde.gov.br/programas/caminho-da-escola)\". Esse programa é executado por meio do Registro de Preços Nacional - RPN.\r\n",
        "\r\n",
        "* Sobre o Registro de Preços Nacional - RPN:\r\n",
        "\r\n",
        "O RPN é uma estratégia de compra nacional compartilhada empreendida pelo FNDE em parceria com os entes federados. Nesse processo, o FNDE se encarrega da elaboração das especificações técnicas padronnizadas dos diferentes produtos, dos estudos de mercado, da realização do pregão eletrônico, do controle de qualidade e da gestão das atas de registro de preços firmadas com os fornecedores adjudicatários. Os Estados, o DF e Municípios, por sua vez, contratam os produtos e pagam diretamente aos respectivos fornecedores, valendo-se de recursos próprios e/ou de valores transferidos pelo FNDE para essa finalidade (transferências voluntárias). Parte desse processo é gerido por intermédio do Sistema de Gerenciamento de Atas de Registro de Preços - SIGARP [2](https://www.fnde.gov.br/sigarpweb/index/consultapublica), sob a responsabilidade do FNDE."
      ]
    },
    {
      "cell_type": "markdown",
      "metadata": {
        "id": "qOayJk3DGV65"
      },
      "source": [
        "### Link para Download do Dataset:  \r\n",
        "\r\n",
        "#### Base de dados do SIGARP: \r\n",
        "*   no Drive: https://drive.google.com/file/d/1z0sY7iWeU63ftDmXWvoHSaWMo0Jzz6_u/view?usp=sharing\r\n",
        "*   no Github: https://github.com/sssouto/caminho-da-escola/blob/main/sigarp_fnde_pregoes_onibus_%2B2015.xlsx\r\n",
        "*   Fonte: Sistema de Gerenciamento de Atas de Registro de Preços - SIGARP: https://www.fnde.gov.br/sigarpweb/index.php/relatorio/relatorio-pregao2/list\r\n",
        "\r\n",
        "#### Base de dados do PIB: \r\n",
        "*   no Drive: https://drive.google.com/file/d/10tJW0Ks-_m153c7GtFxmX9E9-rPmnADU/view?usp=sharing\r\n",
        "*   no Github: https://github.com/sssouto/caminho-da-escola/blob/main/PIB%20dos%20Munic%C3%ADpios%20-%20base%20de%20dados%202012-2018.xls\r\n",
        "*   Fonte: Instituto Brasileiro de Geografia e Estatística - IBGE: https://www.ibge.gov.br/estatisticas/economicas/contas-nacionais/9088-produto-interno-bruto-dos-municipios.html?=&t=resultados&utm_source=landing&utm_medium=explica&utm_campaign=pib"
      ]
    },
    {
      "cell_type": "markdown",
      "metadata": {
        "id": "aURDX7MvC1h_"
      },
      "source": [
        "### Motivação Pessoal:\r\n",
        "\r\n",
        "Minha motivação pessoal para a escolha desse dataset reside no fato de que, desde o ano de 2012, tenho trabalhado na área de compras do FNDE, sendo que, entre 2015 e 2019, fui um dos coordenadores do RPN, período durante o qual fui o gestor do SIGARP. Assim, pela familiaridade com o assunto, achei oportuno explorar alguns dados das compras nacionais para a educação sob a gestão do FNDE. Dentre os diversos produtos do portfólio do RPN, escolhi os ônibus escolares do Programa Caminho da Escola porque esse foi o primeiro objeto executado pelo FNDE a partir dessa estratégia de compra compartilhada, assim como é o objeto com o maior volume de aquisições ao longo dos anos."
      ]
    },
    {
      "cell_type": "markdown",
      "metadata": {
        "id": "sGCXSxC_C1iA"
      },
      "source": [
        "### Investigação\r\n",
        "\r\n",
        "A investigação realizada neste estudo objetivou averiguar das seguintes hipóteses:\r\n",
        "\r\n",
        "* Hipótese 1: existe uma maior tendência de aquisição de ônibus escolares com recursos transferidos pelo FNDE que com recursos próprios dos entes federados.\r\n",
        "\r\n",
        "* Hipótese 2.1: os estados (UF) que mais adquirem ônibus escolares também são os que mais utilizam recursos próprios como forma de pagamento dos veículos.\r\n",
        "\r\n",
        "* Hipótese 2.2: os estados (UF) que mais adquirem ônibus escolares com recursos próprios também são os que têm maior Produto Interno Bruto - PIB.\r\n",
        "\r\n",
        "* Hipótese 3: as vendas de ônibus escolares para o Programa Caminho da Escola representam fatia consistente e significativa do mercado de ônibus no período investigado.\r\n",
        "\r\n",
        "A investigação será realizada a partir dos dados de contratação de ônibus escolares pelos entes federados em decorrência da utilização das atas de registro de preços do FNDE, conforme dados do SIGARP."
      ]
    },
    {
      "cell_type": "code",
      "metadata": {
        "id": "KG7vBFh4rShX"
      },
      "source": [
        "# Importando as bibliotecas:\r\n",
        "import numpy as np\r\n",
        "import pandas as pd\r\n",
        "import seaborn as sns\r\n",
        "import matplotlib.pyplot as plt\r\n",
        "import io\r\n",
        "import heapq"
      ],
      "execution_count": null,
      "outputs": []
    },
    {
      "cell_type": "code",
      "metadata": {
        "colab": {
          "resources": {
            "http://localhost:8080/nbextensions/google.colab/files.js": {
              "data": "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",
              "ok": true,
              "headers": [
                [
                  "content-type",
                  "application/javascript"
                ]
              ],
              "status": 200,
              "status_text": ""
            }
          },
          "base_uri": "https://localhost:8080/",
          "height": 73
        },
        "id": "kNKO6GmAuIO1",
        "outputId": "cfc8a930-20e5-4ffb-a403-da97fa49951e"
      },
      "source": [
        "# Importando o dataset SIGARP:\r\n",
        "\r\n",
        "# Fazendo upload de arquivos:\r\n",
        "from google.colab import files\r\n",
        "uploaded = files.upload()\r\n",
        "\r\n",
        "## Dataset SIGARP: \r\n",
        "df_sigarp = pd.read_excel(io.BytesIO(uploaded['sigarp_fnde_pregoes_onibus_+2015.xlsx']))"
      ],
      "execution_count": null,
      "outputs": [
        {
          "output_type": "display_data",
          "data": {
            "text/html": [
              "\n",
              "     <input type=\"file\" id=\"files-27ffedde-1ca3-4d55-b543-63764576d9c8\" name=\"files[]\" multiple disabled\n",
              "        style=\"border:none\" />\n",
              "     <output id=\"result-27ffedde-1ca3-4d55-b543-63764576d9c8\">\n",
              "      Upload widget is only available when the cell has been executed in the\n",
              "      current browser session. Please rerun this cell to enable.\n",
              "      </output>\n",
              "      <script src=\"/nbextensions/google.colab/files.js\"></script> "
            ],
            "text/plain": [
              "<IPython.core.display.HTML object>"
            ]
          },
          "metadata": {
            "tags": []
          }
        },
        {
          "output_type": "stream",
          "text": [
            "Saving sigarp_fnde_pregoes_onibus_+2015.xlsx to sigarp_fnde_pregoes_onibus_+2015 (2).xlsx\n"
          ],
          "name": "stdout"
        }
      ]
    },
    {
      "cell_type": "code",
      "metadata": {
        "colab": {
          "base_uri": "https://localhost:8080/",
          "height": 714
        },
        "id": "bFz729nZ2zjT",
        "outputId": "c2695db0-b00a-46ed-90c4-cf2a4bf36c35"
      },
      "source": [
        "# Mostrando as primeiras linhas do dataset SIGARP:\r\n",
        "df_sigarp.head()"
      ],
      "execution_count": null,
      "outputs": [
        {
          "output_type": "execute_result",
          "data": {
            "text/html": [
              "<div>\n",
              "<style scoped>\n",
              "    .dataframe tbody tr th:only-of-type {\n",
              "        vertical-align: middle;\n",
              "    }\n",
              "\n",
              "    .dataframe tbody tr th {\n",
              "        vertical-align: top;\n",
              "    }\n",
              "\n",
              "    .dataframe thead th {\n",
              "        text-align: right;\n",
              "    }\n",
              "</style>\n",
              "<table border=\"1\" class=\"dataframe\">\n",
              "  <thead>\n",
              "    <tr style=\"text-align: right;\">\n",
              "      <th></th>\n",
              "      <th>Nº da Solicitação de Adesão</th>\n",
              "      <th>Enquadramento</th>\n",
              "      <th>Código SIMEC</th>\n",
              "      <th>Número do Processo</th>\n",
              "      <th>Data Solicitação</th>\n",
              "      <th>Data última mov.</th>\n",
              "      <th>Nº do Pregão</th>\n",
              "      <th>Tipo do Pregão</th>\n",
              "      <th>Nº Ata Registro de Preço</th>\n",
              "      <th>Cnpj Entidade</th>\n",
              "      <th>Entidade</th>\n",
              "      <th>UF</th>\n",
              "      <th>Email</th>\n",
              "      <th>Telefone</th>\n",
              "      <th>Tipo de Pagamento</th>\n",
              "      <th>Nº do item no pregão</th>\n",
              "      <th>Item</th>\n",
              "      <th>Vigência do item</th>\n",
              "      <th>Qtde.</th>\n",
              "      <th>Fornecedor</th>\n",
              "      <th>Cnpj Fornecedor</th>\n",
              "      <th>Email Fornecedor</th>\n",
              "      <th>Telefone Fornecedor</th>\n",
              "      <th>Valor unitário</th>\n",
              "      <th>Valor total</th>\n",
              "      <th>Situação da adesão</th>\n",
              "      <th>ano_compra</th>\n",
              "    </tr>\n",
              "  </thead>\n",
              "  <tbody>\n",
              "    <tr>\n",
              "      <th>0</th>\n",
              "      <td>71719</td>\n",
              "      <td>-</td>\n",
              "      <td>NaN</td>\n",
              "      <td>NaN</td>\n",
              "      <td>2016-12-16</td>\n",
              "      <td>2017-03-21</td>\n",
              "      <td>41/2015</td>\n",
              "      <td>Nacional</td>\n",
              "      <td>NaN</td>\n",
              "      <td>10.792.928/0016-96</td>\n",
              "      <td>CAMPUS EIRUNEPE</td>\n",
              "      <td>AM</td>\n",
              "      <td>gab.ceiru@ifam.edu.br</td>\n",
              "      <td>(97)-34811217</td>\n",
              "      <td>Recurso Próprio</td>\n",
              "      <td>1</td>\n",
              "      <td>Ônibus escolar com 01 (uma) área reservada (bo...</td>\n",
              "      <td>23/12/2015 - 23/12/2016</td>\n",
              "      <td>1</td>\n",
              "      <td>MARCOPOLO SA</td>\n",
              "      <td>88.611.835/0008-03</td>\n",
              "      <td>izaias@taguamotors.com.br</td>\n",
              "      <td>(54)-21014254</td>\n",
              "      <td>186400</td>\n",
              "      <td>186400</td>\n",
              "      <td>CONTRATO FIRMADO</td>\n",
              "      <td>2017</td>\n",
              "    </tr>\n",
              "    <tr>\n",
              "      <th>1</th>\n",
              "      <td>71614</td>\n",
              "      <td>-</td>\n",
              "      <td>NaN</td>\n",
              "      <td>NaN</td>\n",
              "      <td>2016-11-22</td>\n",
              "      <td>2016-12-16</td>\n",
              "      <td>41/2015</td>\n",
              "      <td>Nacional</td>\n",
              "      <td>NaN</td>\n",
              "      <td>13.393.152/0001-43</td>\n",
              "      <td>PREF MUN DE FATIMA</td>\n",
              "      <td>BA</td>\n",
              "      <td>prefeitura@fatima.ba.gov.br</td>\n",
              "      <td>(75)-36582336</td>\n",
              "      <td>Recurso Próprio</td>\n",
              "      <td>1</td>\n",
              "      <td>Ônibus escolar com 01 (uma) área reservada (bo...</td>\n",
              "      <td>23/12/2015 - 23/12/2016</td>\n",
              "      <td>5</td>\n",
              "      <td>MARCOPOLO SA</td>\n",
              "      <td>88.611.835/0008-03</td>\n",
              "      <td>izaias@taguamotors.com.br</td>\n",
              "      <td>(54)-21014254</td>\n",
              "      <td>186400</td>\n",
              "      <td>932000</td>\n",
              "      <td>CONTRATO FIRMADO</td>\n",
              "      <td>2016</td>\n",
              "    </tr>\n",
              "    <tr>\n",
              "      <th>2</th>\n",
              "      <td>71774</td>\n",
              "      <td>-</td>\n",
              "      <td>NaN</td>\n",
              "      <td>NaN</td>\n",
              "      <td>2016-12-21</td>\n",
              "      <td>2017-01-05</td>\n",
              "      <td>41/2015</td>\n",
              "      <td>Nacional</td>\n",
              "      <td>NaN</td>\n",
              "      <td>13.810.833/0001-60</td>\n",
              "      <td>PREF MUN DE RUY BARBOSA</td>\n",
              "      <td>BA</td>\n",
              "      <td>gabineteclaudio@gmail.com</td>\n",
              "      <td>(75)-32521043</td>\n",
              "      <td>Transferência Direta</td>\n",
              "      <td>1</td>\n",
              "      <td>Ônibus escolar com 01 (uma) área reservada (bo...</td>\n",
              "      <td>23/12/2015 - 23/12/2016</td>\n",
              "      <td>1</td>\n",
              "      <td>MARCOPOLO SA</td>\n",
              "      <td>88.611.835/0008-03</td>\n",
              "      <td>izaias@taguamotors.com.br</td>\n",
              "      <td>(54)-21014254</td>\n",
              "      <td>186400</td>\n",
              "      <td>186400</td>\n",
              "      <td>CONTRATO FIRMADO</td>\n",
              "      <td>2017</td>\n",
              "    </tr>\n",
              "    <tr>\n",
              "      <th>3</th>\n",
              "      <td>71608</td>\n",
              "      <td>-</td>\n",
              "      <td>NaN</td>\n",
              "      <td>NaN</td>\n",
              "      <td>2016-11-21</td>\n",
              "      <td>2017-02-24</td>\n",
              "      <td>41/2015</td>\n",
              "      <td>Nacional</td>\n",
              "      <td>NaN</td>\n",
              "      <td>13.811.807/0001-56</td>\n",
              "      <td>PREF MUN DE UTINGA</td>\n",
              "      <td>BA</td>\n",
              "      <td>administracao@utinga.ba.gov.br</td>\n",
              "      <td>(75)-33371020</td>\n",
              "      <td>Recurso Próprio</td>\n",
              "      <td>1</td>\n",
              "      <td>Ônibus escolar com 01 (uma) área reservada (bo...</td>\n",
              "      <td>23/12/2015 - 23/12/2016</td>\n",
              "      <td>10</td>\n",
              "      <td>MARCOPOLO SA</td>\n",
              "      <td>88.611.835/0008-03</td>\n",
              "      <td>izaias@taguamotors.com.br</td>\n",
              "      <td>(54)-21014254</td>\n",
              "      <td>186400</td>\n",
              "      <td>1864000</td>\n",
              "      <td>CONTRATO FIRMADO</td>\n",
              "      <td>2017</td>\n",
              "    </tr>\n",
              "    <tr>\n",
              "      <th>4</th>\n",
              "      <td>71296</td>\n",
              "      <td>-</td>\n",
              "      <td>NaN</td>\n",
              "      <td>NaN</td>\n",
              "      <td>2016-08-19</td>\n",
              "      <td>2016-10-06</td>\n",
              "      <td>41/2015</td>\n",
              "      <td>Nacional</td>\n",
              "      <td>NaN</td>\n",
              "      <td>07.616.162/0001-06</td>\n",
              "      <td>PREF MUN DE CAUCAIA</td>\n",
              "      <td>CE</td>\n",
              "      <td>prefeito@caucaia.ce.gov.br</td>\n",
              "      <td>(85)-33424410</td>\n",
              "      <td>Recurso Próprio</td>\n",
              "      <td>2</td>\n",
              "      <td>Ônibus escolar com 02 (duas) áreas reservadas ...</td>\n",
              "      <td>23/12/2015 - 23/12/2016</td>\n",
              "      <td>5</td>\n",
              "      <td>MARCOPOLO SA</td>\n",
              "      <td>88.611.835/0008-03</td>\n",
              "      <td>izaias@taguamotors.com.br</td>\n",
              "      <td>(54)-21014254</td>\n",
              "      <td>186400</td>\n",
              "      <td>932000</td>\n",
              "      <td>CONTRATO FIRMADO</td>\n",
              "      <td>2016</td>\n",
              "    </tr>\n",
              "  </tbody>\n",
              "</table>\n",
              "</div>"
            ],
            "text/plain": [
              "   Nº da Solicitação de Adesão Enquadramento  ...  Situação da adesão ano_compra\n",
              "0                        71719             -  ...    CONTRATO FIRMADO       2017\n",
              "1                        71614             -  ...    CONTRATO FIRMADO       2016\n",
              "2                        71774             -  ...    CONTRATO FIRMADO       2017\n",
              "3                        71608             -  ...    CONTRATO FIRMADO       2017\n",
              "4                        71296             -  ...    CONTRATO FIRMADO       2016\n",
              "\n",
              "[5 rows x 27 columns]"
            ]
          },
          "metadata": {
            "tags": []
          },
          "execution_count": 48
        }
      ]
    },
    {
      "cell_type": "code",
      "metadata": {
        "colab": {
          "base_uri": "https://localhost:8080/",
          "height": 714
        },
        "id": "cByK0xUzx9Yw",
        "outputId": "1c909d33-2d4c-49a6-c646-e4749d3e558b"
      },
      "source": [
        "# Preparando o dataset SIGARP:\r\n",
        "\r\n",
        "# Criando a coluna \"ano_compra\" a partir da data contida na coluna \"Data última mov.\":\r\n",
        "df_sigarp['ano_compra'] = pd.DatetimeIndex(df_sigarp['Data última mov.']).year\r\n",
        "\r\n",
        "# Selecionando apenas os registros relativos aos anos de 2016 e 2020 (excluindo o ano de 2021):\r\n",
        "df_sigarp = df_sigarp[df_sigarp['ano_compra'] < 2021]\r\n",
        "\r\n",
        "# Mostrando as primeiras linhas do dataset SIGARP ajustado:\r\n",
        "df_sigarp.head()"
      ],
      "execution_count": null,
      "outputs": [
        {
          "output_type": "execute_result",
          "data": {
            "text/html": [
              "<div>\n",
              "<style scoped>\n",
              "    .dataframe tbody tr th:only-of-type {\n",
              "        vertical-align: middle;\n",
              "    }\n",
              "\n",
              "    .dataframe tbody tr th {\n",
              "        vertical-align: top;\n",
              "    }\n",
              "\n",
              "    .dataframe thead th {\n",
              "        text-align: right;\n",
              "    }\n",
              "</style>\n",
              "<table border=\"1\" class=\"dataframe\">\n",
              "  <thead>\n",
              "    <tr style=\"text-align: right;\">\n",
              "      <th></th>\n",
              "      <th>Nº da Solicitação de Adesão</th>\n",
              "      <th>Enquadramento</th>\n",
              "      <th>Código SIMEC</th>\n",
              "      <th>Número do Processo</th>\n",
              "      <th>Data Solicitação</th>\n",
              "      <th>Data última mov.</th>\n",
              "      <th>Nº do Pregão</th>\n",
              "      <th>Tipo do Pregão</th>\n",
              "      <th>Nº Ata Registro de Preço</th>\n",
              "      <th>Cnpj Entidade</th>\n",
              "      <th>Entidade</th>\n",
              "      <th>UF</th>\n",
              "      <th>Email</th>\n",
              "      <th>Telefone</th>\n",
              "      <th>Tipo de Pagamento</th>\n",
              "      <th>Nº do item no pregão</th>\n",
              "      <th>Item</th>\n",
              "      <th>Vigência do item</th>\n",
              "      <th>Qtde.</th>\n",
              "      <th>Fornecedor</th>\n",
              "      <th>Cnpj Fornecedor</th>\n",
              "      <th>Email Fornecedor</th>\n",
              "      <th>Telefone Fornecedor</th>\n",
              "      <th>Valor unitário</th>\n",
              "      <th>Valor total</th>\n",
              "      <th>Situação da adesão</th>\n",
              "      <th>ano_compra</th>\n",
              "    </tr>\n",
              "  </thead>\n",
              "  <tbody>\n",
              "    <tr>\n",
              "      <th>0</th>\n",
              "      <td>71719</td>\n",
              "      <td>-</td>\n",
              "      <td>NaN</td>\n",
              "      <td>NaN</td>\n",
              "      <td>2016-12-16</td>\n",
              "      <td>2017-03-21</td>\n",
              "      <td>41/2015</td>\n",
              "      <td>Nacional</td>\n",
              "      <td>NaN</td>\n",
              "      <td>10.792.928/0016-96</td>\n",
              "      <td>CAMPUS EIRUNEPE</td>\n",
              "      <td>AM</td>\n",
              "      <td>gab.ceiru@ifam.edu.br</td>\n",
              "      <td>(97)-34811217</td>\n",
              "      <td>Recurso Próprio</td>\n",
              "      <td>1</td>\n",
              "      <td>Ônibus escolar com 01 (uma) área reservada (bo...</td>\n",
              "      <td>23/12/2015 - 23/12/2016</td>\n",
              "      <td>1</td>\n",
              "      <td>MARCOPOLO SA</td>\n",
              "      <td>88.611.835/0008-03</td>\n",
              "      <td>izaias@taguamotors.com.br</td>\n",
              "      <td>(54)-21014254</td>\n",
              "      <td>186400</td>\n",
              "      <td>186400</td>\n",
              "      <td>CONTRATO FIRMADO</td>\n",
              "      <td>2017</td>\n",
              "    </tr>\n",
              "    <tr>\n",
              "      <th>1</th>\n",
              "      <td>71614</td>\n",
              "      <td>-</td>\n",
              "      <td>NaN</td>\n",
              "      <td>NaN</td>\n",
              "      <td>2016-11-22</td>\n",
              "      <td>2016-12-16</td>\n",
              "      <td>41/2015</td>\n",
              "      <td>Nacional</td>\n",
              "      <td>NaN</td>\n",
              "      <td>13.393.152/0001-43</td>\n",
              "      <td>PREF MUN DE FATIMA</td>\n",
              "      <td>BA</td>\n",
              "      <td>prefeitura@fatima.ba.gov.br</td>\n",
              "      <td>(75)-36582336</td>\n",
              "      <td>Recurso Próprio</td>\n",
              "      <td>1</td>\n",
              "      <td>Ônibus escolar com 01 (uma) área reservada (bo...</td>\n",
              "      <td>23/12/2015 - 23/12/2016</td>\n",
              "      <td>5</td>\n",
              "      <td>MARCOPOLO SA</td>\n",
              "      <td>88.611.835/0008-03</td>\n",
              "      <td>izaias@taguamotors.com.br</td>\n",
              "      <td>(54)-21014254</td>\n",
              "      <td>186400</td>\n",
              "      <td>932000</td>\n",
              "      <td>CONTRATO FIRMADO</td>\n",
              "      <td>2016</td>\n",
              "    </tr>\n",
              "    <tr>\n",
              "      <th>2</th>\n",
              "      <td>71774</td>\n",
              "      <td>-</td>\n",
              "      <td>NaN</td>\n",
              "      <td>NaN</td>\n",
              "      <td>2016-12-21</td>\n",
              "      <td>2017-01-05</td>\n",
              "      <td>41/2015</td>\n",
              "      <td>Nacional</td>\n",
              "      <td>NaN</td>\n",
              "      <td>13.810.833/0001-60</td>\n",
              "      <td>PREF MUN DE RUY BARBOSA</td>\n",
              "      <td>BA</td>\n",
              "      <td>gabineteclaudio@gmail.com</td>\n",
              "      <td>(75)-32521043</td>\n",
              "      <td>Transferência Direta</td>\n",
              "      <td>1</td>\n",
              "      <td>Ônibus escolar com 01 (uma) área reservada (bo...</td>\n",
              "      <td>23/12/2015 - 23/12/2016</td>\n",
              "      <td>1</td>\n",
              "      <td>MARCOPOLO SA</td>\n",
              "      <td>88.611.835/0008-03</td>\n",
              "      <td>izaias@taguamotors.com.br</td>\n",
              "      <td>(54)-21014254</td>\n",
              "      <td>186400</td>\n",
              "      <td>186400</td>\n",
              "      <td>CONTRATO FIRMADO</td>\n",
              "      <td>2017</td>\n",
              "    </tr>\n",
              "    <tr>\n",
              "      <th>3</th>\n",
              "      <td>71608</td>\n",
              "      <td>-</td>\n",
              "      <td>NaN</td>\n",
              "      <td>NaN</td>\n",
              "      <td>2016-11-21</td>\n",
              "      <td>2017-02-24</td>\n",
              "      <td>41/2015</td>\n",
              "      <td>Nacional</td>\n",
              "      <td>NaN</td>\n",
              "      <td>13.811.807/0001-56</td>\n",
              "      <td>PREF MUN DE UTINGA</td>\n",
              "      <td>BA</td>\n",
              "      <td>administracao@utinga.ba.gov.br</td>\n",
              "      <td>(75)-33371020</td>\n",
              "      <td>Recurso Próprio</td>\n",
              "      <td>1</td>\n",
              "      <td>Ônibus escolar com 01 (uma) área reservada (bo...</td>\n",
              "      <td>23/12/2015 - 23/12/2016</td>\n",
              "      <td>10</td>\n",
              "      <td>MARCOPOLO SA</td>\n",
              "      <td>88.611.835/0008-03</td>\n",
              "      <td>izaias@taguamotors.com.br</td>\n",
              "      <td>(54)-21014254</td>\n",
              "      <td>186400</td>\n",
              "      <td>1864000</td>\n",
              "      <td>CONTRATO FIRMADO</td>\n",
              "      <td>2017</td>\n",
              "    </tr>\n",
              "    <tr>\n",
              "      <th>4</th>\n",
              "      <td>71296</td>\n",
              "      <td>-</td>\n",
              "      <td>NaN</td>\n",
              "      <td>NaN</td>\n",
              "      <td>2016-08-19</td>\n",
              "      <td>2016-10-06</td>\n",
              "      <td>41/2015</td>\n",
              "      <td>Nacional</td>\n",
              "      <td>NaN</td>\n",
              "      <td>07.616.162/0001-06</td>\n",
              "      <td>PREF MUN DE CAUCAIA</td>\n",
              "      <td>CE</td>\n",
              "      <td>prefeito@caucaia.ce.gov.br</td>\n",
              "      <td>(85)-33424410</td>\n",
              "      <td>Recurso Próprio</td>\n",
              "      <td>2</td>\n",
              "      <td>Ônibus escolar com 02 (duas) áreas reservadas ...</td>\n",
              "      <td>23/12/2015 - 23/12/2016</td>\n",
              "      <td>5</td>\n",
              "      <td>MARCOPOLO SA</td>\n",
              "      <td>88.611.835/0008-03</td>\n",
              "      <td>izaias@taguamotors.com.br</td>\n",
              "      <td>(54)-21014254</td>\n",
              "      <td>186400</td>\n",
              "      <td>932000</td>\n",
              "      <td>CONTRATO FIRMADO</td>\n",
              "      <td>2016</td>\n",
              "    </tr>\n",
              "  </tbody>\n",
              "</table>\n",
              "</div>"
            ],
            "text/plain": [
              "   Nº da Solicitação de Adesão Enquadramento  ...  Situação da adesão ano_compra\n",
              "0                        71719             -  ...    CONTRATO FIRMADO       2017\n",
              "1                        71614             -  ...    CONTRATO FIRMADO       2016\n",
              "2                        71774             -  ...    CONTRATO FIRMADO       2017\n",
              "3                        71608             -  ...    CONTRATO FIRMADO       2017\n",
              "4                        71296             -  ...    CONTRATO FIRMADO       2016\n",
              "\n",
              "[5 rows x 27 columns]"
            ]
          },
          "metadata": {
            "tags": []
          },
          "execution_count": 60
        }
      ]
    },
    {
      "cell_type": "markdown",
      "metadata": {
        "id": "hJnP3OeD3anb"
      },
      "source": [
        "### Hipótese 1: existe uma maior tendência de aquisição de ônibus escolares com recursos transferidos pelo FNDE que com recursos próprios dos entes federados."
      ]
    },
    {
      "cell_type": "code",
      "metadata": {
        "id": "fkiOrHPK9tOr"
      },
      "source": [
        "# Para realizar essa análise em uma mesma escala, foram consideradas compras com a mesma quantidade de ônibus.\r\n",
        "\r\n",
        "## freq_qtde = df_sigarp['Qtde.'].value_counts()\r\n",
        "\r\n",
        "# Como a maior parte das aquisições é de apenas 1 veículo (4.934 de 6.058 solicitações), filtrou-se o dataframe com essa quantidade:\r\n",
        "df_sigarp_ano_valor = df_sigarp[df_sigarp['Qtde.'] == 1]\r\n"
      ],
      "execution_count": null,
      "outputs": []
    },
    {
      "cell_type": "code",
      "metadata": {
        "colab": {
          "base_uri": "https://localhost:8080/",
          "height": 757
        },
        "id": "ALCVkMzu1tES",
        "outputId": "64e949d4-21cc-4532-b047-4c0f04084477"
      },
      "source": [
        "# Plotando um gráfico do tipo 'violino', com o intuito de facilitar a visualização da distribuição dos valores gastos por forma de pagamento, \r\n",
        "# valendo-se da função densidade de probabilidade estimada. No eixo 'x', foram plotados os anos de análise:\r\n",
        "g = sns.catplot(x=\"ano_compra\", y=\"Valor total\", hue=\"Tipo de Pagamento\", kind=\"violin\", split=True, data=df_sigarp_ano_valor, palette='bright', height=10, aspect=1.5)\r\n",
        "g.set_axis_labels(\"\", \"Valor da compra - R$\", fontsize=16)\r\n",
        "g.set_xticklabels(fontsize=14)\r\n",
        "g.fig.subplots_adjust(top=0.93)\r\n",
        "g.fig.suptitle(\"Gráfico 1 - Forma de pagamento dos ônibus escolares* - 2016/2020\", fontsize=20)\r\n",
        "plt.figtext(0.35, 0.001, \"* Foram consideradas neste levantamento somente as compras em que foi adquirido apenas 1 veículo\", ha=\"center\", fontsize=12)"
      ],
      "execution_count": null,
      "outputs": [
        {
          "output_type": "execute_result",
          "data": {
            "text/plain": [
              "Text(0.35, 0.001, '* Foram consideradas neste levantamento somente as compras em que foi adquirido apenas 1 veículo')"
            ]
          },
          "metadata": {
            "tags": []
          },
          "execution_count": 65
        },
        {
          "output_type": "display_data",
          "data": {
            "image/png": "[encoded data removed]",
            "text/plain": [
              "<Figure size 1216.75x720 with 1 Axes>"
            ]
          },
          "metadata": {
            "tags": [],
            "needs_background": "light"
          }
        }
      ]
    },
    {
      "cell_type": "code",
      "metadata": {
        "colab": {
          "resources": {
            "http://localhost:8080/nbextensions/google.colab/files.js": {
              "data": "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",
              "ok": true,
              "headers": [
                [
                  "content-type",
                  "application/javascript"
                ]
              ],
              "status": 200,
              "status_text": ""
            }
          },
          "base_uri": "https://localhost:8080/",
          "height": 73
        },
        "id": "UNe4DNqBsykZ",
        "outputId": "e89229b4-04a5-4f93-c192-125d79780e09"
      },
      "source": [
        "# Importando o dataset PIB:\r\n",
        "\r\n",
        "# Fazendo upload de arquivos:\r\n",
        "from google.colab import files\r\n",
        "uploaded = files.upload()\r\n",
        "\r\n",
        "## Dataset PIB:\r\n",
        "df_pib = pd.read_excel(io.BytesIO(uploaded['PIB dos Municípios - base de dados 2012-2018.xls']))"
      ],
      "execution_count": null,
      "outputs": [
        {
          "output_type": "display_data",
          "data": {
            "text/html": [
              "\n",
              "     <input type=\"file\" id=\"files-cf86e569-0cef-40ef-93da-483d7c436166\" name=\"files[]\" multiple disabled\n",
              "        style=\"border:none\" />\n",
              "     <output id=\"result-cf86e569-0cef-40ef-93da-483d7c436166\">\n",
              "      Upload widget is only available when the cell has been executed in the\n",
              "      current browser session. Please rerun this cell to enable.\n",
              "      </output>\n",
              "      <script src=\"/nbextensions/google.colab/files.js\"></script> "
            ],
            "text/plain": [
              "<IPython.core.display.HTML object>"
            ]
          },
          "metadata": {
            "tags": []
          }
        },
        {
          "output_type": "stream",
          "text": [
            "Saving PIB dos Municípios - base de dados 2012-2018.xls to PIB dos Municípios - base de dados 2012-2018 (2).xls\n"
          ],
          "name": "stdout"
        }
      ]
    },
    {
      "cell_type": "code",
      "metadata": {
        "colab": {
          "base_uri": "https://localhost:8080/",
          "height": 884
        },
        "id": "89OQLJzSyPD7",
        "outputId": "5f1c8447-5943-4655-bbae-827c6908595d"
      },
      "source": [
        "# Mostrando as primeiras linhas do dataset PIB:\r\n",
        "df_pib.head()"
      ],
      "execution_count": null,
      "outputs": [
        {
          "output_type": "execute_result",
          "data": {
            "text/html": [
              "<div>\n",
              "<style scoped>\n",
              "    .dataframe tbody tr th:only-of-type {\n",
              "        vertical-align: middle;\n",
              "    }\n",
              "\n",
              "    .dataframe tbody tr th {\n",
              "        vertical-align: top;\n",
              "    }\n",
              "\n",
              "    .dataframe thead th {\n",
              "        text-align: right;\n",
              "    }\n",
              "</style>\n",
              "<table border=\"1\" class=\"dataframe\">\n",
              "  <thead>\n",
              "    <tr style=\"text-align: right;\">\n",
              "      <th></th>\n",
              "      <th>Ano</th>\n",
              "      <th>Código da Grande Região</th>\n",
              "      <th>Nome da Grande Região</th>\n",
              "      <th>Código da Unidade da Federação</th>\n",
              "      <th>Sigla da Unidade da Federação</th>\n",
              "      <th>Nome da Unidade da Federação</th>\n",
              "      <th>Código do Município</th>\n",
              "      <th>Nome do Município</th>\n",
              "      <th>Região Metropolitana</th>\n",
              "      <th>Código da Mesorregião</th>\n",
              "      <th>Nome da Mesorregião</th>\n",
              "      <th>Código da Microrregião</th>\n",
              "      <th>Nome da Microrregião</th>\n",
              "      <th>Código da Região Geográfica Imediata</th>\n",
              "      <th>Nome da Região Geográfica Imediata</th>\n",
              "      <th>Município da Região Geográfica Imediata</th>\n",
              "      <th>Código da Região Geográfica Intermediária</th>\n",
              "      <th>Nome da Região Geográfica Intermediária</th>\n",
              "      <th>Município da Região Geográfica Intermediária</th>\n",
              "      <th>Código Concentração Urbana</th>\n",
              "      <th>Nome Concentração Urbana</th>\n",
              "      <th>Tipo Concentração Urbana</th>\n",
              "      <th>Código Arranjo Populacional</th>\n",
              "      <th>Nome Arranjo Populacional</th>\n",
              "      <th>Hierarquia Urbana</th>\n",
              "      <th>Hierarquia Urbana (principais categorias)</th>\n",
              "      <th>Código da Região Rural</th>\n",
              "      <th>Nome da Região Rural</th>\n",
              "      <th>Região rural (segundo classificação do núcleo)</th>\n",
              "      <th>Amazônia Legal</th>\n",
              "      <th>Semiárido</th>\n",
              "      <th>Cidade-Região de São Paulo</th>\n",
              "      <th>Valor adicionado bruto da Agropecuária, \\na preços correntes\\n(R$ 1.000)</th>\n",
              "      <th>Valor adicionado bruto da Indústria,\\na preços correntes\\n(R$ 1.000)</th>\n",
              "      <th>Valor adicionado bruto dos Serviços,\\na preços correntes \\n- exceto Administração, defesa, educação e saúde públicas e seguridade social\\n(R$ 1.000)</th>\n",
              "      <th>Valor adicionado bruto da Administração, defesa, educação e saúde públicas e seguridade social, \\na preços correntes\\n(R$ 1.000)</th>\n",
              "      <th>Valor adicionado bruto total, \\na preços correntes\\n(R$ 1.000)</th>\n",
              "      <th>Impostos, líquidos de subsídios, sobre produtos, \\na preços correntes\\n(R$ 1.000)</th>\n",
              "      <th>Produto Interno Bruto, \\na preços correntes\\n(R$ 1.000)</th>\n",
              "      <th>Produto Interno Bruto per capita, \\na preços correntes\\n(R$ 1,00)</th>\n",
              "      <th>Atividade com maior valor adicionado bruto</th>\n",
              "      <th>Atividade com segundo maior valor adicionado bruto</th>\n",
              "      <th>Atividade com terceiro maior valor adicionado bruto</th>\n",
              "    </tr>\n",
              "  </thead>\n",
              "  <tbody>\n",
              "    <tr>\n",
              "      <th>0</th>\n",
              "      <td>2012</td>\n",
              "      <td>1</td>\n",
              "      <td>Norte</td>\n",
              "      <td>11</td>\n",
              "      <td>RO</td>\n",
              "      <td>Rondônia</td>\n",
              "      <td>1100015</td>\n",
              "      <td>Alta Floresta D'Oeste</td>\n",
              "      <td>NaN</td>\n",
              "      <td>1102</td>\n",
              "      <td>Leste Rondoniense</td>\n",
              "      <td>11006</td>\n",
              "      <td>Cacoal</td>\n",
              "      <td>110005</td>\n",
              "      <td>Cacoal</td>\n",
              "      <td>do Entorno</td>\n",
              "      <td>1102</td>\n",
              "      <td>Ji-Paraná</td>\n",
              "      <td>do Entorno</td>\n",
              "      <td>NaN</td>\n",
              "      <td>NaN</td>\n",
              "      <td>NaN</td>\n",
              "      <td>NaN</td>\n",
              "      <td>NaN</td>\n",
              "      <td>Centro Local</td>\n",
              "      <td>Centro Local</td>\n",
              "      <td>1101</td>\n",
              "      <td>Região Rural da Capital Regional de Porto Velho</td>\n",
              "      <td>Região Rural de Capital Regional</td>\n",
              "      <td>Sim</td>\n",
              "      <td>Não</td>\n",
              "      <td>Não</td>\n",
              "      <td>106124.681</td>\n",
              "      <td>18905.656</td>\n",
              "      <td>71329.833</td>\n",
              "      <td>112789.354</td>\n",
              "      <td>309149.524</td>\n",
              "      <td>19879.955</td>\n",
              "      <td>329029.479</td>\n",
              "      <td>13670.26</td>\n",
              "      <td>Administração, defesa, educação e saúde públic...</td>\n",
              "      <td>Pecuária, inclusive apoio à pecuária</td>\n",
              "      <td>Demais serviços</td>\n",
              "    </tr>\n",
              "    <tr>\n",
              "      <th>1</th>\n",
              "      <td>2012</td>\n",
              "      <td>1</td>\n",
              "      <td>Norte</td>\n",
              "      <td>11</td>\n",
              "      <td>RO</td>\n",
              "      <td>Rondônia</td>\n",
              "      <td>1100023</td>\n",
              "      <td>Ariquemes</td>\n",
              "      <td>NaN</td>\n",
              "      <td>1102</td>\n",
              "      <td>Leste Rondoniense</td>\n",
              "      <td>11003</td>\n",
              "      <td>Ariquemes</td>\n",
              "      <td>110002</td>\n",
              "      <td>Ariquemes</td>\n",
              "      <td>Polo</td>\n",
              "      <td>1101</td>\n",
              "      <td>Porto Velho</td>\n",
              "      <td>do Entorno</td>\n",
              "      <td>NaN</td>\n",
              "      <td>NaN</td>\n",
              "      <td>NaN</td>\n",
              "      <td>NaN</td>\n",
              "      <td>NaN</td>\n",
              "      <td>Centro Subregional B</td>\n",
              "      <td>Centro Subregional</td>\n",
              "      <td>1101</td>\n",
              "      <td>Região Rural da Capital Regional de Porto Velho</td>\n",
              "      <td>Região Rural de Capital Regional</td>\n",
              "      <td>Sim</td>\n",
              "      <td>Não</td>\n",
              "      <td>Não</td>\n",
              "      <td>96495.299</td>\n",
              "      <td>308634.238</td>\n",
              "      <td>680674.995</td>\n",
              "      <td>415410.772</td>\n",
              "      <td>1501215.305</td>\n",
              "      <td>202426.632</td>\n",
              "      <td>1703641.937</td>\n",
              "      <td>18368.70</td>\n",
              "      <td>Demais serviços</td>\n",
              "      <td>Administração, defesa, educação e saúde públic...</td>\n",
              "      <td>Comércio e reparação de veículos automotores e...</td>\n",
              "    </tr>\n",
              "    <tr>\n",
              "      <th>2</th>\n",
              "      <td>2012</td>\n",
              "      <td>1</td>\n",
              "      <td>Norte</td>\n",
              "      <td>11</td>\n",
              "      <td>RO</td>\n",
              "      <td>Rondônia</td>\n",
              "      <td>1100031</td>\n",
              "      <td>Cabixi</td>\n",
              "      <td>NaN</td>\n",
              "      <td>1102</td>\n",
              "      <td>Leste Rondoniense</td>\n",
              "      <td>11008</td>\n",
              "      <td>Colorado do Oeste</td>\n",
              "      <td>110006</td>\n",
              "      <td>Vilhena</td>\n",
              "      <td>do Entorno</td>\n",
              "      <td>1102</td>\n",
              "      <td>Ji-Paraná</td>\n",
              "      <td>do Entorno</td>\n",
              "      <td>NaN</td>\n",
              "      <td>NaN</td>\n",
              "      <td>NaN</td>\n",
              "      <td>NaN</td>\n",
              "      <td>NaN</td>\n",
              "      <td>Centro Local</td>\n",
              "      <td>Centro Local</td>\n",
              "      <td>1101</td>\n",
              "      <td>Região Rural da Capital Regional de Porto Velho</td>\n",
              "      <td>Região Rural de Capital Regional</td>\n",
              "      <td>Sim</td>\n",
              "      <td>Não</td>\n",
              "      <td>Não</td>\n",
              "      <td>43378.031</td>\n",
              "      <td>4170.729</td>\n",
              "      <td>17049.108</td>\n",
              "      <td>30398.152</td>\n",
              "      <td>94996.021</td>\n",
              "      <td>4590.460</td>\n",
              "      <td>99586.481</td>\n",
              "      <td>16240.46</td>\n",
              "      <td>Administração, defesa, educação e saúde públic...</td>\n",
              "      <td>Agricultura, inclusive apoio à agricultura e a...</td>\n",
              "      <td>Pecuária, inclusive apoio à pecuária</td>\n",
              "    </tr>\n",
              "    <tr>\n",
              "      <th>3</th>\n",
              "      <td>2012</td>\n",
              "      <td>1</td>\n",
              "      <td>Norte</td>\n",
              "      <td>11</td>\n",
              "      <td>RO</td>\n",
              "      <td>Rondônia</td>\n",
              "      <td>1100049</td>\n",
              "      <td>Cacoal</td>\n",
              "      <td>NaN</td>\n",
              "      <td>1102</td>\n",
              "      <td>Leste Rondoniense</td>\n",
              "      <td>11006</td>\n",
              "      <td>Cacoal</td>\n",
              "      <td>110005</td>\n",
              "      <td>Cacoal</td>\n",
              "      <td>Polo</td>\n",
              "      <td>1102</td>\n",
              "      <td>Ji-Paraná</td>\n",
              "      <td>do Entorno</td>\n",
              "      <td>NaN</td>\n",
              "      <td>NaN</td>\n",
              "      <td>NaN</td>\n",
              "      <td>NaN</td>\n",
              "      <td>NaN</td>\n",
              "      <td>Centro Subregional B</td>\n",
              "      <td>Centro Subregional</td>\n",
              "      <td>5105</td>\n",
              "      <td>Região Rural do Centro Sub-regional de Vilhena...</td>\n",
              "      <td>Região Rural de Centro Sub-regional</td>\n",
              "      <td>Sim</td>\n",
              "      <td>Não</td>\n",
              "      <td>Não</td>\n",
              "      <td>135438.597</td>\n",
              "      <td>148693.529</td>\n",
              "      <td>574071.027</td>\n",
              "      <td>353322.876</td>\n",
              "      <td>1211526.028</td>\n",
              "      <td>161179.057</td>\n",
              "      <td>1372705.085</td>\n",
              "      <td>17303.73</td>\n",
              "      <td>Demais serviços</td>\n",
              "      <td>Administração, defesa, educação e saúde públic...</td>\n",
              "      <td>Comércio e reparação de veículos automotores e...</td>\n",
              "    </tr>\n",
              "    <tr>\n",
              "      <th>4</th>\n",
              "      <td>2012</td>\n",
              "      <td>1</td>\n",
              "      <td>Norte</td>\n",
              "      <td>11</td>\n",
              "      <td>RO</td>\n",
              "      <td>Rondônia</td>\n",
              "      <td>1100056</td>\n",
              "      <td>Cerejeiras</td>\n",
              "      <td>NaN</td>\n",
              "      <td>1102</td>\n",
              "      <td>Leste Rondoniense</td>\n",
              "      <td>11008</td>\n",
              "      <td>Colorado do Oeste</td>\n",
              "      <td>110006</td>\n",
              "      <td>Vilhena</td>\n",
              "      <td>do Entorno</td>\n",
              "      <td>1102</td>\n",
              "      <td>Ji-Paraná</td>\n",
              "      <td>do Entorno</td>\n",
              "      <td>NaN</td>\n",
              "      <td>NaN</td>\n",
              "      <td>NaN</td>\n",
              "      <td>NaN</td>\n",
              "      <td>NaN</td>\n",
              "      <td>Centro de Zona B</td>\n",
              "      <td>Centro de Zona</td>\n",
              "      <td>1101</td>\n",
              "      <td>Região Rural da Capital Regional de Porto Velho</td>\n",
              "      <td>Região Rural de Capital Regional</td>\n",
              "      <td>Sim</td>\n",
              "      <td>Não</td>\n",
              "      <td>Não</td>\n",
              "      <td>67143.369</td>\n",
              "      <td>22502.866</td>\n",
              "      <td>140677.005</td>\n",
              "      <td>74852.002</td>\n",
              "      <td>305175.241</td>\n",
              "      <td>52157.755</td>\n",
              "      <td>357332.997</td>\n",
              "      <td>21204.19</td>\n",
              "      <td>Administração, defesa, educação e saúde públic...</td>\n",
              "      <td>Comércio e reparação de veículos automotores e...</td>\n",
              "      <td>Demais serviços</td>\n",
              "    </tr>\n",
              "  </tbody>\n",
              "</table>\n",
              "</div>"
            ],
            "text/plain": [
              "    Ano  ...  Atividade com terceiro maior valor adicionado bruto\n",
              "0  2012  ...                                    Demais serviços  \n",
              "1  2012  ...  Comércio e reparação de veículos automotores e...  \n",
              "2  2012  ...               Pecuária, inclusive apoio à pecuária  \n",
              "3  2012  ...  Comércio e reparação de veículos automotores e...  \n",
              "4  2012  ...                                    Demais serviços  \n",
              "\n",
              "[5 rows x 43 columns]"
            ]
          },
          "metadata": {
            "tags": []
          },
          "execution_count": 52
        }
      ]
    },
    {
      "cell_type": "code",
      "metadata": {
        "id": "E-qyAN7PC1iA"
      },
      "source": [
        ""
      ],
      "execution_count": null,
      "outputs": []
    },
    {
      "cell_type": "code",
      "metadata": {
        "id": "7oT-U1uGC1iB"
      },
      "source": [
        ""
      ],
      "execution_count": null,
      "outputs": []
    },
    {
      "cell_type": "code",
      "metadata": {
        "id": "B3Is0UH2C1iB"
      },
      "source": [
        ""
      ],
      "execution_count": null,
      "outputs": []
    },
    {
      "cell_type": "code",
      "metadata": {
        "id": "eUspONLbC1iC"
      },
      "source": [
        ""
      ],
      "execution_count": null,
      "outputs": []
    },
    {
      "cell_type": "code",
      "metadata": {
        "id": "dpxNBcNgC1iC"
      },
      "source": [
        ""
      ],
      "execution_count": null,
      "outputs": []
    },
    {
      "cell_type": "code",
      "metadata": {
        "id": "LPPXyx9QC1iC"
      },
      "source": [
        ""
      ],
      "execution_count": null,
      "outputs": []
    },
    {
      "cell_type": "code",
      "metadata": {
        "id": "dmhMcS-rC1iD"
      },
      "source": [
        ""
      ],
      "execution_count": null,
      "outputs": []
    },
    {
      "cell_type": "markdown",
      "metadata": {
        "id": "vVlhzgf5C1iD"
      },
      "source": [
        "### Conclusões e Achados"
      ]
    },
    {
      "cell_type": "code",
      "metadata": {
        "nbgrader": {
          "grade": true,
          "grade_id": "cell-06eb20edabcbb6c1",
          "locked": false,
          "points": 1,
          "schema_version": 3,
          "solution": true,
          "task": false
        },
        "id": "6hBV7SFYC1iD"
      },
      "source": [
        ""
      ],
      "execution_count": null,
      "outputs": []
    },
    {
      "cell_type": "code",
      "metadata": {
        "id": "3PKQCfhJC1iD"
      },
      "source": [
        ""
      ],
      "execution_count": null,
      "outputs": []
    },
    {
      "cell_type": "code",
      "metadata": {
        "id": "WsX9SN2TC1iE"
      },
      "source": [
        ""
      ],
      "execution_count": null,
      "outputs": []
    },
    {
      "cell_type": "code",
      "metadata": {
        "id": "Y19O7mohC1iE"
      },
      "source": [
        ""
      ],
      "execution_count": null,
      "outputs": []
    },
    {
      "cell_type": "code",
      "metadata": {
        "id": "jY5zy-RIC1iE"
      },
      "source": [
        ""
      ],
      "execution_count": null,
      "outputs": []
    },
    {
      "cell_type": "code",
      "metadata": {
        "id": "1zf-6MaOC1iE"
      },
      "source": [
        ""
      ],
      "execution_count": null,
      "outputs": []
    },
    {
      "cell_type": "code",
      "metadata": {
        "id": "HVEL_nNqC1iF"
      },
      "source": [
        ""
      ],
      "execution_count": null,
      "outputs": []
    }
  ]
}